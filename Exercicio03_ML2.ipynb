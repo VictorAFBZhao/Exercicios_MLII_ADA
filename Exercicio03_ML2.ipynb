{
  "cells": [
    {
      "cell_type": "markdown",
      "id": "d6ed78b7",
      "metadata": {
        "id": "d6ed78b7"
      },
      "source": [
        "# Ensemble: Bagging x Boosting x Stacking"
      ]
    },
    {
      "cell_type": "markdown",
      "id": "a8cd92ee",
      "metadata": {
        "id": "a8cd92ee"
      },
      "source": [
        "Ensemble nada mais é do que a sabedoria da maioria. Aqui combinamos vários modelos mais simples em um único modelo robusto a fim de reduzir o viés, variância e/ou aumentar a acurácia.\n",
        "<br>\n",
        "\n",
        "\n",
        "## Tipos de Ensemble:\n",
        "- __1. Bagging (short for bootstrap aggregation)__: Treina paralelamente N modelos mais fracos (geralmente do mesmo tipo - homogênio) com N subsets distintos criados com amostragem randômica e reposição. Cada modelo é avaliado na fase de teste com o label definido pela moda (classificação) ou pela média dos valores (regressão). Os métodos de Bagging reduzem a variância da predição. <br>\n",
        "Algoritimos  famosos: Random Forest <br>\n",
        "<img src='images/bagging.png' style=\"width:600px\"  text=\"http://cheatsheets.aqeel-anwar.com\" />  \n",
        "<br>\n",
        "<br>\n",
        "- __2. Boosting__: Treina N modelos mais fracos (geralmente do mesmo tipo - homogênio) de forma sequencial. Os pontos que foram classificados erroneamente recebem um peso maior para entrar no próximo modelo. Na fase de teste, cada modelo é avaliado com base do erro de teste de cada modelo, a predição é feita com um peso sobre a votação. Os métodos de Boosting reduzem o viés da predição. <br>\n",
        "Algoritimos  famosos: AdaBoost, Gradient Boosting, XGBoost, CatBoost, LightGBM (Light Gradient Boosting Machine) <br>\n",
        "<img src='images/boosting.png' style=\"width:600px\" text=\"Fonte: http://cheatsheets.aqeel-anwar.com\" />\n",
        "<br>\n",
        "<br>\n",
        "- __3. Stacking__: Treina N modelos mais fracos (geralmente de tipos distintos - heterogênio) em um subset do conjunto de dados. Uma vez que os modelos foram treinados, cria-se um novo modelo (meta learning) para combinar a saída de cada um dos modelos mais fracos resultando na predição final. Isso é feito no segundo subset dos dados. Na fase de teste, cada modelo mais fraco faz sua predição independentemente e esses labels entram como features do meta learner para gerar a predição final.\n",
        "<br>\n",
        "<img src='images/stacking.png' style=\"width:600px\" text=\"Fonte: http://cheatsheets.aqeel-anwar.com\" />\n",
        "<br>\n",
        "<br>\n",
        "\n",
        "##### Resumo:\n",
        "<img src='images/comparison_img.png' style=\"width:600px\" text=\"Fonte: https://quantdare.com/what-is-the-difference-between-bagging-and-boosting\" />\n",
        "\n",
        "<img src='images/comparison.png' style=\"width:600px\" />\n"
      ]
    },
    {
      "cell_type": "markdown",
      "id": "0eb040d8",
      "metadata": {
        "id": "0eb040d8"
      },
      "source": [
        "# Boosting : AdaBoost"
      ]
    },
    {
      "cell_type": "markdown",
      "id": "2d9f96e0",
      "metadata": {
        "id": "2d9f96e0"
      },
      "source": [
        "O AdaBoost significa **Adaptive Boosting**, e tem como procedimento geral **a criação sucessiva dos chamados weak learners**, que são modelos bem fracos de aprendizagem - geralmente, **árvores de um único nó (stumps)**.\n",
        "\n",
        "<img src=\"https://miro.medium.com/max/1744/1*nJ5VrsiS1yaOR77d4h8gyw.png\" width=300>"
      ]
    },
    {
      "cell_type": "markdown",
      "id": "bd5db87c",
      "metadata": {
        "id": "bd5db87c"
      },
      "source": [
        "O AdaBoost utiliza os **erros da árvore anterior para melhorar a próxima árvore**. As predições finais são feitas com base **nos pesos de cada stump**, cuja determinação faz parte do algoritmo!\n",
        "\n",
        "<img src=\"https://static.packt-cdn.com/products/9781788295758/graphics/image_04_046-1.png\" width=700>\n",
        "\n",
        "Vamos entender um pouco melhor...\n",
        "\n",
        "Aqui, o bootstrapping não é utilizado: o método começa treinando um classificador fraco **no dataset original**, e depois treina diversas cópias adicionais do classificador **no mesmo dataset**, mas dando **um peso maior às observações que foram classificadas erroneamente** (ou, no caso de regressões, a observações **com o maior erro**).\n",
        "\n",
        "Assim, após diversas iterações, classificadores/regressores vão sequencialmente \"focando nos casos mais difíceis\", e construindo um classificador encadeado que seja forte, apesar de utilizar diversos classificadores fracos em como elementos fundamentais.\n",
        "\n",
        "<img src=\"https://www.researchgate.net/profile/Zhuo_Wang8/publication/288699540/figure/fig9/AS:668373486686246@1536364065786/Illustration-of-AdaBoost-algorithm-for-creating-a-strong-classifier-based-on-multiple.png\" width=500>\n",
        "\n",
        "De forma resumida, as principais ideias por trás deste algoritmo são:\n",
        "\n",
        "- O algoritmo cria e combina um conjunto de **modelos fracos** (em geral, stumps);\n",
        "- Cada stump é criado **levando em consideração os erros do stump anterior**;\n",
        "- Alguns dos stumps têm **maior peso de decisão** do que outros na predição final;\n",
        "\n",
        "As classes no sklearn são:\n",
        "\n",
        "- [AdaBoostClassifier](https://scikit-learn.org/stable/modules/generated/sklearn.ensemble.AdaBoostClassifier.html)\n",
        "\n",
        "- [AdaBoostRegressor](https://scikit-learn.org/stable/modules/generated/sklearn.ensemble.AdaBoostRegressor.html#sklearn.ensemble.AdaBoostRegressor)\n",
        "\n",
        "Note que não há muitos hiperparâmetros. O mais importante, que deve ser tunado com o grid/random search, é:\n",
        "\n",
        "- `n_estimators` : o número de weak learners encadeados;\n",
        "\n",
        "Além disso, pode também ser interessante tunar os hiperparâmetros dos weak learners. Isso é possível de ser feito, como veremos a seguir!\n"
      ]
    },
    {
      "cell_type": "code",
      "execution_count": 14,
      "id": "df0c7f60",
      "metadata": {
        "ExecuteTime": {
          "end_time": "2022-06-03T00:55:12.207316Z",
          "start_time": "2022-06-03T00:55:12.190322Z"
        },
        "id": "df0c7f60"
      },
      "outputs": [],
      "source": [
        "from sklearn.compose import ColumnTransformer\n",
        "\n",
        "from sklearn.preprocessing import StandardScaler, OneHotEncoder, OrdinalEncoder\n",
        "\n",
        "from sklearn.impute import SimpleImputer\n",
        "\n",
        "from sklearn.tree import DecisionTreeClassifier\n",
        "from sklearn.model_selection import GridSearchCV, StratifiedKFold, train_test_split\n",
        "\n",
        "from sklearn.pipeline import Pipeline\n",
        "from google.colab import drive\n",
        "import pandas as pd\n",
        "import numpy as np\n",
        "from sklearn.metrics import confusion_matrix, classification_report, ConfusionMatrixDisplay"
      ]
    },
    {
      "cell_type": "code",
      "execution_count": 15,
      "id": "f9459af4",
      "metadata": {
        "ExecuteTime": {
          "end_time": "2022-06-03T00:53:38.415845Z",
          "start_time": "2022-06-03T00:53:38.401888Z"
        },
        "id": "f9459af4"
      },
      "outputs": [],
      "source": [
        "# criar uma função de preprocessamento\n",
        "def pipe_pre_process_german():\n",
        "\n",
        "    df = pd.read_csv(\"/content/german_credit_data.csv\")\n",
        "\n",
        "    X = df.drop(columns=\"Risk\")\n",
        "    y = df[\"Risk\"]\n",
        "\n",
        "    X_train, X_test, y_train, y_test = train_test_split(X, y, test_size=0.2, random_state=42, stratify=y)\n",
        "\n",
        "    # ==========================================================\n",
        "\n",
        "    pipe_features_num = Pipeline([(\"input_num\", SimpleImputer(strategy=\"mean\")),\n",
        "                                  (\"std\", StandardScaler())])\n",
        "\n",
        "    features_num = X_train.select_dtypes(include=np.number).columns.tolist()\n",
        "\n",
        "    # ==========================================================\n",
        "\n",
        "    pipe_features_cat = Pipeline([(\"input_cat\", SimpleImputer(strategy=\"constant\", fill_value=\"unknown\")),\n",
        "                                  (\"onehot\", OneHotEncoder())])\n",
        "\n",
        "    features_cat = X_train.select_dtypes(exclude=np.number).columns.tolist()\n",
        "\n",
        "    # ==========================================================\n",
        "\n",
        "    pre_processador = ColumnTransformer([(\"transf_num\", pipe_features_num, features_num),\n",
        "                                         (\"transf_cat\", pipe_features_cat, features_cat)])\n",
        "\n",
        "    return X_train, X_test, y_train, y_test, pre_processador"
      ]
    },
    {
      "cell_type": "code",
      "execution_count": 16,
      "id": "19de4413",
      "metadata": {
        "ExecuteTime": {
          "end_time": "2022-06-03T00:45:00.841206Z",
          "start_time": "2022-06-03T00:45:00.819079Z"
        },
        "id": "19de4413"
      },
      "outputs": [],
      "source": [
        "# métricas de classificação (para avaliação do modelo)\n",
        "def metricas_classificacao(estimator):\n",
        "\n",
        "    # ============================================\n",
        "\n",
        "    print(\"\\nMétricas de avaliação de treino:\")\n",
        "\n",
        "    y_pred_train = estimator.predict(X_train)\n",
        "\n",
        "    print(confusion_matrix(y_train, y_pred_train))\n",
        "\n",
        "    ConfusionMatrixDisplay.from_predictions(y_train, y_pred_train)\n",
        "    plt.show()\n",
        "\n",
        "    print(classification_report(y_train, y_pred_train))\n",
        "\n",
        "\n",
        "    # ============================================\n",
        "\n",
        "    print(\"\\nMétricas de avaliação de teste:\")\n",
        "\n",
        "    y_pred_test = estimator.predict(X_test)\n",
        "\n",
        "    print(confusion_matrix(y_test, y_pred_test))\n",
        "\n",
        "    ConfusionMatrixDisplay.from_predictions(y_test, y_pred_test)\n",
        "    plt.show()\n",
        "\n",
        "    print(classification_report(y_test, y_pred_test))\n"
      ]
    },
    {
      "cell_type": "code",
      "execution_count": 17,
      "id": "5324972e",
      "metadata": {
        "ExecuteTime": {
          "end_time": "2022-06-03T00:52:22.558153Z",
          "start_time": "2022-06-03T00:52:21.539859Z"
        },
        "id": "5324972e"
      },
      "outputs": [],
      "source": [
        "import pandas as pd\n",
        "import matplotlib.pyplot as plt\n",
        "\n",
        "# modulos referentes ao AdaBoost\n",
        "from sklearn.ensemble import AdaBoostClassifier, AdaBoostRegressor"
      ]
    },
    {
      "cell_type": "code",
      "execution_count": 18,
      "id": "b9c56e58",
      "metadata": {
        "ExecuteTime": {
          "end_time": "2022-06-03T00:53:54.312020Z",
          "start_time": "2022-06-03T00:53:54.071391Z"
        },
        "id": "b9c56e58",
        "outputId": "a00afc14-79fd-4f49-fdef-ce507d1afe29",
        "colab": {
          "base_uri": "https://localhost:8080/",
          "height": 227
        }
      },
      "outputs": [
        {
          "output_type": "execute_result",
          "data": {
            "text/plain": [
              "Pipeline(steps=[('pre_processador',\n",
              "                 ColumnTransformer(transformers=[('transf_num',\n",
              "                                                  Pipeline(steps=[('input_num',\n",
              "                                                                   SimpleImputer()),\n",
              "                                                                  ('std',\n",
              "                                                                   StandardScaler())]),\n",
              "                                                  ['Unnamed: 0', 'Age', 'Job',\n",
              "                                                   'Credit amount',\n",
              "                                                   'Duration']),\n",
              "                                                 ('transf_cat',\n",
              "                                                  Pipeline(steps=[('input_cat',\n",
              "                                                                   SimpleImputer(fill_value='unknown',\n",
              "                                                                                 strategy='constant')),\n",
              "                                                                  ('onehot',\n",
              "                                                                   OneHotEncoder())]),\n",
              "                                                  ['Sex', 'Housing',\n",
              "                                                   'Saving accounts',\n",
              "                                                   'Checking account',\n",
              "                                                   'Purpose'])])),\n",
              "                ('ab', AdaBoostClassifier(random_state=42))])"
            ],
            "text/html": [
              "<style>#sk-container-id-4 {color: black;background-color: white;}#sk-container-id-4 pre{padding: 0;}#sk-container-id-4 div.sk-toggleable {background-color: white;}#sk-container-id-4 label.sk-toggleable__label {cursor: pointer;display: block;width: 100%;margin-bottom: 0;padding: 0.3em;box-sizing: border-box;text-align: center;}#sk-container-id-4 label.sk-toggleable__label-arrow:before {content: \"▸\";float: left;margin-right: 0.25em;color: #696969;}#sk-container-id-4 label.sk-toggleable__label-arrow:hover:before {color: black;}#sk-container-id-4 div.sk-estimator:hover label.sk-toggleable__label-arrow:before {color: black;}#sk-container-id-4 div.sk-toggleable__content {max-height: 0;max-width: 0;overflow: hidden;text-align: left;background-color: #f0f8ff;}#sk-container-id-4 div.sk-toggleable__content pre {margin: 0.2em;color: black;border-radius: 0.25em;background-color: #f0f8ff;}#sk-container-id-4 input.sk-toggleable__control:checked~div.sk-toggleable__content {max-height: 200px;max-width: 100%;overflow: auto;}#sk-container-id-4 input.sk-toggleable__control:checked~label.sk-toggleable__label-arrow:before {content: \"▾\";}#sk-container-id-4 div.sk-estimator input.sk-toggleable__control:checked~label.sk-toggleable__label {background-color: #d4ebff;}#sk-container-id-4 div.sk-label input.sk-toggleable__control:checked~label.sk-toggleable__label {background-color: #d4ebff;}#sk-container-id-4 input.sk-hidden--visually {border: 0;clip: rect(1px 1px 1px 1px);clip: rect(1px, 1px, 1px, 1px);height: 1px;margin: -1px;overflow: hidden;padding: 0;position: absolute;width: 1px;}#sk-container-id-4 div.sk-estimator {font-family: monospace;background-color: #f0f8ff;border: 1px dotted black;border-radius: 0.25em;box-sizing: border-box;margin-bottom: 0.5em;}#sk-container-id-4 div.sk-estimator:hover {background-color: #d4ebff;}#sk-container-id-4 div.sk-parallel-item::after {content: \"\";width: 100%;border-bottom: 1px solid gray;flex-grow: 1;}#sk-container-id-4 div.sk-label:hover label.sk-toggleable__label {background-color: #d4ebff;}#sk-container-id-4 div.sk-serial::before {content: \"\";position: absolute;border-left: 1px solid gray;box-sizing: border-box;top: 0;bottom: 0;left: 50%;z-index: 0;}#sk-container-id-4 div.sk-serial {display: flex;flex-direction: column;align-items: center;background-color: white;padding-right: 0.2em;padding-left: 0.2em;position: relative;}#sk-container-id-4 div.sk-item {position: relative;z-index: 1;}#sk-container-id-4 div.sk-parallel {display: flex;align-items: stretch;justify-content: center;background-color: white;position: relative;}#sk-container-id-4 div.sk-item::before, #sk-container-id-4 div.sk-parallel-item::before {content: \"\";position: absolute;border-left: 1px solid gray;box-sizing: border-box;top: 0;bottom: 0;left: 50%;z-index: -1;}#sk-container-id-4 div.sk-parallel-item {display: flex;flex-direction: column;z-index: 1;position: relative;background-color: white;}#sk-container-id-4 div.sk-parallel-item:first-child::after {align-self: flex-end;width: 50%;}#sk-container-id-4 div.sk-parallel-item:last-child::after {align-self: flex-start;width: 50%;}#sk-container-id-4 div.sk-parallel-item:only-child::after {width: 0;}#sk-container-id-4 div.sk-dashed-wrapped {border: 1px dashed gray;margin: 0 0.4em 0.5em 0.4em;box-sizing: border-box;padding-bottom: 0.4em;background-color: white;}#sk-container-id-4 div.sk-label label {font-family: monospace;font-weight: bold;display: inline-block;line-height: 1.2em;}#sk-container-id-4 div.sk-label-container {text-align: center;}#sk-container-id-4 div.sk-container {/* jupyter's `normalize.less` sets `[hidden] { display: none; }` but bootstrap.min.css set `[hidden] { display: none !important; }` so we also need the `!important` here to be able to override the default hidden behavior on the sphinx rendered scikit-learn.org. See: https://github.com/scikit-learn/scikit-learn/issues/21755 */display: inline-block !important;position: relative;}#sk-container-id-4 div.sk-text-repr-fallback {display: none;}</style><div id=\"sk-container-id-4\" class=\"sk-top-container\"><div class=\"sk-text-repr-fallback\"><pre>Pipeline(steps=[(&#x27;pre_processador&#x27;,\n",
              "                 ColumnTransformer(transformers=[(&#x27;transf_num&#x27;,\n",
              "                                                  Pipeline(steps=[(&#x27;input_num&#x27;,\n",
              "                                                                   SimpleImputer()),\n",
              "                                                                  (&#x27;std&#x27;,\n",
              "                                                                   StandardScaler())]),\n",
              "                                                  [&#x27;Unnamed: 0&#x27;, &#x27;Age&#x27;, &#x27;Job&#x27;,\n",
              "                                                   &#x27;Credit amount&#x27;,\n",
              "                                                   &#x27;Duration&#x27;]),\n",
              "                                                 (&#x27;transf_cat&#x27;,\n",
              "                                                  Pipeline(steps=[(&#x27;input_cat&#x27;,\n",
              "                                                                   SimpleImputer(fill_value=&#x27;unknown&#x27;,\n",
              "                                                                                 strategy=&#x27;constant&#x27;)),\n",
              "                                                                  (&#x27;onehot&#x27;,\n",
              "                                                                   OneHotEncoder())]),\n",
              "                                                  [&#x27;Sex&#x27;, &#x27;Housing&#x27;,\n",
              "                                                   &#x27;Saving accounts&#x27;,\n",
              "                                                   &#x27;Checking account&#x27;,\n",
              "                                                   &#x27;Purpose&#x27;])])),\n",
              "                (&#x27;ab&#x27;, AdaBoostClassifier(random_state=42))])</pre><b>In a Jupyter environment, please rerun this cell to show the HTML representation or trust the notebook. <br />On GitHub, the HTML representation is unable to render, please try loading this page with nbviewer.org.</b></div><div class=\"sk-container\" hidden><div class=\"sk-item sk-dashed-wrapped\"><div class=\"sk-label-container\"><div class=\"sk-label sk-toggleable\"><input class=\"sk-toggleable__control sk-hidden--visually\" id=\"sk-estimator-id-29\" type=\"checkbox\" ><label for=\"sk-estimator-id-29\" class=\"sk-toggleable__label sk-toggleable__label-arrow\">Pipeline</label><div class=\"sk-toggleable__content\"><pre>Pipeline(steps=[(&#x27;pre_processador&#x27;,\n",
              "                 ColumnTransformer(transformers=[(&#x27;transf_num&#x27;,\n",
              "                                                  Pipeline(steps=[(&#x27;input_num&#x27;,\n",
              "                                                                   SimpleImputer()),\n",
              "                                                                  (&#x27;std&#x27;,\n",
              "                                                                   StandardScaler())]),\n",
              "                                                  [&#x27;Unnamed: 0&#x27;, &#x27;Age&#x27;, &#x27;Job&#x27;,\n",
              "                                                   &#x27;Credit amount&#x27;,\n",
              "                                                   &#x27;Duration&#x27;]),\n",
              "                                                 (&#x27;transf_cat&#x27;,\n",
              "                                                  Pipeline(steps=[(&#x27;input_cat&#x27;,\n",
              "                                                                   SimpleImputer(fill_value=&#x27;unknown&#x27;,\n",
              "                                                                                 strategy=&#x27;constant&#x27;)),\n",
              "                                                                  (&#x27;onehot&#x27;,\n",
              "                                                                   OneHotEncoder())]),\n",
              "                                                  [&#x27;Sex&#x27;, &#x27;Housing&#x27;,\n",
              "                                                   &#x27;Saving accounts&#x27;,\n",
              "                                                   &#x27;Checking account&#x27;,\n",
              "                                                   &#x27;Purpose&#x27;])])),\n",
              "                (&#x27;ab&#x27;, AdaBoostClassifier(random_state=42))])</pre></div></div></div><div class=\"sk-serial\"><div class=\"sk-item sk-dashed-wrapped\"><div class=\"sk-label-container\"><div class=\"sk-label sk-toggleable\"><input class=\"sk-toggleable__control sk-hidden--visually\" id=\"sk-estimator-id-30\" type=\"checkbox\" ><label for=\"sk-estimator-id-30\" class=\"sk-toggleable__label sk-toggleable__label-arrow\">pre_processador: ColumnTransformer</label><div class=\"sk-toggleable__content\"><pre>ColumnTransformer(transformers=[(&#x27;transf_num&#x27;,\n",
              "                                 Pipeline(steps=[(&#x27;input_num&#x27;, SimpleImputer()),\n",
              "                                                 (&#x27;std&#x27;, StandardScaler())]),\n",
              "                                 [&#x27;Unnamed: 0&#x27;, &#x27;Age&#x27;, &#x27;Job&#x27;, &#x27;Credit amount&#x27;,\n",
              "                                  &#x27;Duration&#x27;]),\n",
              "                                (&#x27;transf_cat&#x27;,\n",
              "                                 Pipeline(steps=[(&#x27;input_cat&#x27;,\n",
              "                                                  SimpleImputer(fill_value=&#x27;unknown&#x27;,\n",
              "                                                                strategy=&#x27;constant&#x27;)),\n",
              "                                                 (&#x27;onehot&#x27;, OneHotEncoder())]),\n",
              "                                 [&#x27;Sex&#x27;, &#x27;Housing&#x27;, &#x27;Saving accounts&#x27;,\n",
              "                                  &#x27;Checking account&#x27;, &#x27;Purpose&#x27;])])</pre></div></div></div><div class=\"sk-parallel\"><div class=\"sk-parallel-item\"><div class=\"sk-item\"><div class=\"sk-label-container\"><div class=\"sk-label sk-toggleable\"><input class=\"sk-toggleable__control sk-hidden--visually\" id=\"sk-estimator-id-31\" type=\"checkbox\" ><label for=\"sk-estimator-id-31\" class=\"sk-toggleable__label sk-toggleable__label-arrow\">transf_num</label><div class=\"sk-toggleable__content\"><pre>[&#x27;Unnamed: 0&#x27;, &#x27;Age&#x27;, &#x27;Job&#x27;, &#x27;Credit amount&#x27;, &#x27;Duration&#x27;]</pre></div></div></div><div class=\"sk-serial\"><div class=\"sk-item\"><div class=\"sk-serial\"><div class=\"sk-item\"><div class=\"sk-estimator sk-toggleable\"><input class=\"sk-toggleable__control sk-hidden--visually\" id=\"sk-estimator-id-32\" type=\"checkbox\" ><label for=\"sk-estimator-id-32\" class=\"sk-toggleable__label sk-toggleable__label-arrow\">SimpleImputer</label><div class=\"sk-toggleable__content\"><pre>SimpleImputer()</pre></div></div></div><div class=\"sk-item\"><div class=\"sk-estimator sk-toggleable\"><input class=\"sk-toggleable__control sk-hidden--visually\" id=\"sk-estimator-id-33\" type=\"checkbox\" ><label for=\"sk-estimator-id-33\" class=\"sk-toggleable__label sk-toggleable__label-arrow\">StandardScaler</label><div class=\"sk-toggleable__content\"><pre>StandardScaler()</pre></div></div></div></div></div></div></div></div><div class=\"sk-parallel-item\"><div class=\"sk-item\"><div class=\"sk-label-container\"><div class=\"sk-label sk-toggleable\"><input class=\"sk-toggleable__control sk-hidden--visually\" id=\"sk-estimator-id-34\" type=\"checkbox\" ><label for=\"sk-estimator-id-34\" class=\"sk-toggleable__label sk-toggleable__label-arrow\">transf_cat</label><div class=\"sk-toggleable__content\"><pre>[&#x27;Sex&#x27;, &#x27;Housing&#x27;, &#x27;Saving accounts&#x27;, &#x27;Checking account&#x27;, &#x27;Purpose&#x27;]</pre></div></div></div><div class=\"sk-serial\"><div class=\"sk-item\"><div class=\"sk-serial\"><div class=\"sk-item\"><div class=\"sk-estimator sk-toggleable\"><input class=\"sk-toggleable__control sk-hidden--visually\" id=\"sk-estimator-id-35\" type=\"checkbox\" ><label for=\"sk-estimator-id-35\" class=\"sk-toggleable__label sk-toggleable__label-arrow\">SimpleImputer</label><div class=\"sk-toggleable__content\"><pre>SimpleImputer(fill_value=&#x27;unknown&#x27;, strategy=&#x27;constant&#x27;)</pre></div></div></div><div class=\"sk-item\"><div class=\"sk-estimator sk-toggleable\"><input class=\"sk-toggleable__control sk-hidden--visually\" id=\"sk-estimator-id-36\" type=\"checkbox\" ><label for=\"sk-estimator-id-36\" class=\"sk-toggleable__label sk-toggleable__label-arrow\">OneHotEncoder</label><div class=\"sk-toggleable__content\"><pre>OneHotEncoder()</pre></div></div></div></div></div></div></div></div></div></div><div class=\"sk-item\"><div class=\"sk-estimator sk-toggleable\"><input class=\"sk-toggleable__control sk-hidden--visually\" id=\"sk-estimator-id-37\" type=\"checkbox\" ><label for=\"sk-estimator-id-37\" class=\"sk-toggleable__label sk-toggleable__label-arrow\">AdaBoostClassifier</label><div class=\"sk-toggleable__content\"><pre>AdaBoostClassifier(random_state=42)</pre></div></div></div></div></div></div></div>"
            ]
          },
          "metadata": {},
          "execution_count": 18
        }
      ],
      "source": [
        "X_train, X_test, y_train, y_test, pre_processador = pipe_pre_process_german()\n",
        "\n",
        "# pipeline final\n",
        "pipe_ab = Pipeline([(\"pre_processador\", pre_processador),\n",
        "                    (\"ab\", AdaBoostClassifier(random_state=42))]) # instanciando o modelo com os hiperâmetros \"padrão\"\n",
        "# n_estimators=50\n",
        "# Treinar o modelo\n",
        "pipe_ab.fit(X_train, y_train)"
      ]
    },
    {
      "cell_type": "code",
      "execution_count": 19,
      "id": "0a369be4",
      "metadata": {
        "ExecuteTime": {
          "end_time": "2022-06-03T00:55:18.066517Z",
          "start_time": "2022-06-03T00:55:17.477866Z"
        },
        "id": "0a369be4",
        "outputId": "191f9701-fc7a-48f0-ed3c-766dafeafc08",
        "colab": {
          "base_uri": "https://localhost:8080/",
          "height": 1000
        }
      },
      "outputs": [
        {
          "output_type": "stream",
          "name": "stdout",
          "text": [
            "\n",
            "Métricas de avaliação de treino:\n",
            "[[122 118]\n",
            " [ 61 499]]\n"
          ]
        },
        {
          "output_type": "display_data",
          "data": {
            "text/plain": [
              "<Figure size 640x480 with 2 Axes>"
            ],
            "image/png": "[encoded data removed]"
          },
          "metadata": {}
        },
        {
          "output_type": "stream",
          "name": "stdout",
          "text": [
            "              precision    recall  f1-score   support\n",
            "\n",
            "         bad       0.67      0.51      0.58       240\n",
            "        good       0.81      0.89      0.85       560\n",
            "\n",
            "    accuracy                           0.78       800\n",
            "   macro avg       0.74      0.70      0.71       800\n",
            "weighted avg       0.77      0.78      0.77       800\n",
            "\n",
            "\n",
            "Métricas de avaliação de teste:\n",
            "[[ 29  31]\n",
            " [ 19 121]]\n"
          ]
        },
        {
          "output_type": "display_data",
          "data": {
            "text/plain": [
              "<Figure size 640x480 with 2 Axes>"
            ],
            "image/png": "[encoded data removed]"
          },
          "metadata": {}
        },
        {
          "output_type": "stream",
          "name": "stdout",
          "text": [
            "              precision    recall  f1-score   support\n",
            "\n",
            "         bad       0.60      0.48      0.54        60\n",
            "        good       0.80      0.86      0.83       140\n",
            "\n",
            "    accuracy                           0.75       200\n",
            "   macro avg       0.70      0.67      0.68       200\n",
            "weighted avg       0.74      0.75      0.74       200\n",
            "\n"
          ]
        }
      ],
      "source": [
        "# avalia o modelo\n",
        "metricas_classificacao(pipe_ab)"
      ]
    },
    {
      "cell_type": "markdown",
      "id": "489e5fa8",
      "metadata": {
        "id": "489e5fa8"
      },
      "source": [
        "Usando n_estimator = 150 - estou chutando um valor. O ideal é fazer um grid/randomsearch"
      ]
    },
    {
      "cell_type": "code",
      "execution_count": 20,
      "id": "0d5d6d45",
      "metadata": {
        "ExecuteTime": {
          "end_time": "2022-06-03T00:58:06.677561Z",
          "start_time": "2022-06-03T00:58:06.103584Z"
        },
        "id": "0d5d6d45",
        "outputId": "d6f2c4d4-8b0f-4f79-c965-d699bf1883dd",
        "colab": {
          "base_uri": "https://localhost:8080/",
          "height": 227
        }
      },
      "outputs": [
        {
          "output_type": "execute_result",
          "data": {
            "text/plain": [
              "Pipeline(steps=[('pre_processador',\n",
              "                 ColumnTransformer(transformers=[('transf_num',\n",
              "                                                  Pipeline(steps=[('input_num',\n",
              "                                                                   SimpleImputer()),\n",
              "                                                                  ('std',\n",
              "                                                                   StandardScaler())]),\n",
              "                                                  ['Unnamed: 0', 'Age', 'Job',\n",
              "                                                   'Credit amount',\n",
              "                                                   'Duration']),\n",
              "                                                 ('transf_cat',\n",
              "                                                  Pipeline(steps=[('input_cat',\n",
              "                                                                   SimpleImputer(fill_value='unknown',\n",
              "                                                                                 strategy='constant')),\n",
              "                                                                  ('onehot',\n",
              "                                                                   OneHotEncoder())]),\n",
              "                                                  ['Sex', 'Housing',\n",
              "                                                   'Saving accounts',\n",
              "                                                   'Checking account',\n",
              "                                                   'Purpose'])])),\n",
              "                ('ab', AdaBoostClassifier(n_estimators=150, random_state=42))])"
            ],
            "text/html": [
              "<style>#sk-container-id-5 {color: black;background-color: white;}#sk-container-id-5 pre{padding: 0;}#sk-container-id-5 div.sk-toggleable {background-color: white;}#sk-container-id-5 label.sk-toggleable__label {cursor: pointer;display: block;width: 100%;margin-bottom: 0;padding: 0.3em;box-sizing: border-box;text-align: center;}#sk-container-id-5 label.sk-toggleable__label-arrow:before {content: \"▸\";float: left;margin-right: 0.25em;color: #696969;}#sk-container-id-5 label.sk-toggleable__label-arrow:hover:before {color: black;}#sk-container-id-5 div.sk-estimator:hover label.sk-toggleable__label-arrow:before {color: black;}#sk-container-id-5 div.sk-toggleable__content {max-height: 0;max-width: 0;overflow: hidden;text-align: left;background-color: #f0f8ff;}#sk-container-id-5 div.sk-toggleable__content pre {margin: 0.2em;color: black;border-radius: 0.25em;background-color: #f0f8ff;}#sk-container-id-5 input.sk-toggleable__control:checked~div.sk-toggleable__content {max-height: 200px;max-width: 100%;overflow: auto;}#sk-container-id-5 input.sk-toggleable__control:checked~label.sk-toggleable__label-arrow:before {content: \"▾\";}#sk-container-id-5 div.sk-estimator input.sk-toggleable__control:checked~label.sk-toggleable__label {background-color: #d4ebff;}#sk-container-id-5 div.sk-label input.sk-toggleable__control:checked~label.sk-toggleable__label {background-color: #d4ebff;}#sk-container-id-5 input.sk-hidden--visually {border: 0;clip: rect(1px 1px 1px 1px);clip: rect(1px, 1px, 1px, 1px);height: 1px;margin: -1px;overflow: hidden;padding: 0;position: absolute;width: 1px;}#sk-container-id-5 div.sk-estimator {font-family: monospace;background-color: #f0f8ff;border: 1px dotted black;border-radius: 0.25em;box-sizing: border-box;margin-bottom: 0.5em;}#sk-container-id-5 div.sk-estimator:hover {background-color: #d4ebff;}#sk-container-id-5 div.sk-parallel-item::after {content: \"\";width: 100%;border-bottom: 1px solid gray;flex-grow: 1;}#sk-container-id-5 div.sk-label:hover label.sk-toggleable__label {background-color: #d4ebff;}#sk-container-id-5 div.sk-serial::before {content: \"\";position: absolute;border-left: 1px solid gray;box-sizing: border-box;top: 0;bottom: 0;left: 50%;z-index: 0;}#sk-container-id-5 div.sk-serial {display: flex;flex-direction: column;align-items: center;background-color: white;padding-right: 0.2em;padding-left: 0.2em;position: relative;}#sk-container-id-5 div.sk-item {position: relative;z-index: 1;}#sk-container-id-5 div.sk-parallel {display: flex;align-items: stretch;justify-content: center;background-color: white;position: relative;}#sk-container-id-5 div.sk-item::before, #sk-container-id-5 div.sk-parallel-item::before {content: \"\";position: absolute;border-left: 1px solid gray;box-sizing: border-box;top: 0;bottom: 0;left: 50%;z-index: -1;}#sk-container-id-5 div.sk-parallel-item {display: flex;flex-direction: column;z-index: 1;position: relative;background-color: white;}#sk-container-id-5 div.sk-parallel-item:first-child::after {align-self: flex-end;width: 50%;}#sk-container-id-5 div.sk-parallel-item:last-child::after {align-self: flex-start;width: 50%;}#sk-container-id-5 div.sk-parallel-item:only-child::after {width: 0;}#sk-container-id-5 div.sk-dashed-wrapped {border: 1px dashed gray;margin: 0 0.4em 0.5em 0.4em;box-sizing: border-box;padding-bottom: 0.4em;background-color: white;}#sk-container-id-5 div.sk-label label {font-family: monospace;font-weight: bold;display: inline-block;line-height: 1.2em;}#sk-container-id-5 div.sk-label-container {text-align: center;}#sk-container-id-5 div.sk-container {/* jupyter's `normalize.less` sets `[hidden] { display: none; }` but bootstrap.min.css set `[hidden] { display: none !important; }` so we also need the `!important` here to be able to override the default hidden behavior on the sphinx rendered scikit-learn.org. See: https://github.com/scikit-learn/scikit-learn/issues/21755 */display: inline-block !important;position: relative;}#sk-container-id-5 div.sk-text-repr-fallback {display: none;}</style><div id=\"sk-container-id-5\" class=\"sk-top-container\"><div class=\"sk-text-repr-fallback\"><pre>Pipeline(steps=[(&#x27;pre_processador&#x27;,\n",
              "                 ColumnTransformer(transformers=[(&#x27;transf_num&#x27;,\n",
              "                                                  Pipeline(steps=[(&#x27;input_num&#x27;,\n",
              "                                                                   SimpleImputer()),\n",
              "                                                                  (&#x27;std&#x27;,\n",
              "                                                                   StandardScaler())]),\n",
              "                                                  [&#x27;Unnamed: 0&#x27;, &#x27;Age&#x27;, &#x27;Job&#x27;,\n",
              "                                                   &#x27;Credit amount&#x27;,\n",
              "                                                   &#x27;Duration&#x27;]),\n",
              "                                                 (&#x27;transf_cat&#x27;,\n",
              "                                                  Pipeline(steps=[(&#x27;input_cat&#x27;,\n",
              "                                                                   SimpleImputer(fill_value=&#x27;unknown&#x27;,\n",
              "                                                                                 strategy=&#x27;constant&#x27;)),\n",
              "                                                                  (&#x27;onehot&#x27;,\n",
              "                                                                   OneHotEncoder())]),\n",
              "                                                  [&#x27;Sex&#x27;, &#x27;Housing&#x27;,\n",
              "                                                   &#x27;Saving accounts&#x27;,\n",
              "                                                   &#x27;Checking account&#x27;,\n",
              "                                                   &#x27;Purpose&#x27;])])),\n",
              "                (&#x27;ab&#x27;, AdaBoostClassifier(n_estimators=150, random_state=42))])</pre><b>In a Jupyter environment, please rerun this cell to show the HTML representation or trust the notebook. <br />On GitHub, the HTML representation is unable to render, please try loading this page with nbviewer.org.</b></div><div class=\"sk-container\" hidden><div class=\"sk-item sk-dashed-wrapped\"><div class=\"sk-label-container\"><div class=\"sk-label sk-toggleable\"><input class=\"sk-toggleable__control sk-hidden--visually\" id=\"sk-estimator-id-38\" type=\"checkbox\" ><label for=\"sk-estimator-id-38\" class=\"sk-toggleable__label sk-toggleable__label-arrow\">Pipeline</label><div class=\"sk-toggleable__content\"><pre>Pipeline(steps=[(&#x27;pre_processador&#x27;,\n",
              "                 ColumnTransformer(transformers=[(&#x27;transf_num&#x27;,\n",
              "                                                  Pipeline(steps=[(&#x27;input_num&#x27;,\n",
              "                                                                   SimpleImputer()),\n",
              "                                                                  (&#x27;std&#x27;,\n",
              "                                                                   StandardScaler())]),\n",
              "                                                  [&#x27;Unnamed: 0&#x27;, &#x27;Age&#x27;, &#x27;Job&#x27;,\n",
              "                                                   &#x27;Credit amount&#x27;,\n",
              "                                                   &#x27;Duration&#x27;]),\n",
              "                                                 (&#x27;transf_cat&#x27;,\n",
              "                                                  Pipeline(steps=[(&#x27;input_cat&#x27;,\n",
              "                                                                   SimpleImputer(fill_value=&#x27;unknown&#x27;,\n",
              "                                                                                 strategy=&#x27;constant&#x27;)),\n",
              "                                                                  (&#x27;onehot&#x27;,\n",
              "                                                                   OneHotEncoder())]),\n",
              "                                                  [&#x27;Sex&#x27;, &#x27;Housing&#x27;,\n",
              "                                                   &#x27;Saving accounts&#x27;,\n",
              "                                                   &#x27;Checking account&#x27;,\n",
              "                                                   &#x27;Purpose&#x27;])])),\n",
              "                (&#x27;ab&#x27;, AdaBoostClassifier(n_estimators=150, random_state=42))])</pre></div></div></div><div class=\"sk-serial\"><div class=\"sk-item sk-dashed-wrapped\"><div class=\"sk-label-container\"><div class=\"sk-label sk-toggleable\"><input class=\"sk-toggleable__control sk-hidden--visually\" id=\"sk-estimator-id-39\" type=\"checkbox\" ><label for=\"sk-estimator-id-39\" class=\"sk-toggleable__label sk-toggleable__label-arrow\">pre_processador: ColumnTransformer</label><div class=\"sk-toggleable__content\"><pre>ColumnTransformer(transformers=[(&#x27;transf_num&#x27;,\n",
              "                                 Pipeline(steps=[(&#x27;input_num&#x27;, SimpleImputer()),\n",
              "                                                 (&#x27;std&#x27;, StandardScaler())]),\n",
              "                                 [&#x27;Unnamed: 0&#x27;, &#x27;Age&#x27;, &#x27;Job&#x27;, &#x27;Credit amount&#x27;,\n",
              "                                  &#x27;Duration&#x27;]),\n",
              "                                (&#x27;transf_cat&#x27;,\n",
              "                                 Pipeline(steps=[(&#x27;input_cat&#x27;,\n",
              "                                                  SimpleImputer(fill_value=&#x27;unknown&#x27;,\n",
              "                                                                strategy=&#x27;constant&#x27;)),\n",
              "                                                 (&#x27;onehot&#x27;, OneHotEncoder())]),\n",
              "                                 [&#x27;Sex&#x27;, &#x27;Housing&#x27;, &#x27;Saving accounts&#x27;,\n",
              "                                  &#x27;Checking account&#x27;, &#x27;Purpose&#x27;])])</pre></div></div></div><div class=\"sk-parallel\"><div class=\"sk-parallel-item\"><div class=\"sk-item\"><div class=\"sk-label-container\"><div class=\"sk-label sk-toggleable\"><input class=\"sk-toggleable__control sk-hidden--visually\" id=\"sk-estimator-id-40\" type=\"checkbox\" ><label for=\"sk-estimator-id-40\" class=\"sk-toggleable__label sk-toggleable__label-arrow\">transf_num</label><div class=\"sk-toggleable__content\"><pre>[&#x27;Unnamed: 0&#x27;, &#x27;Age&#x27;, &#x27;Job&#x27;, &#x27;Credit amount&#x27;, &#x27;Duration&#x27;]</pre></div></div></div><div class=\"sk-serial\"><div class=\"sk-item\"><div class=\"sk-serial\"><div class=\"sk-item\"><div class=\"sk-estimator sk-toggleable\"><input class=\"sk-toggleable__control sk-hidden--visually\" id=\"sk-estimator-id-41\" type=\"checkbox\" ><label for=\"sk-estimator-id-41\" class=\"sk-toggleable__label sk-toggleable__label-arrow\">SimpleImputer</label><div class=\"sk-toggleable__content\"><pre>SimpleImputer()</pre></div></div></div><div class=\"sk-item\"><div class=\"sk-estimator sk-toggleable\"><input class=\"sk-toggleable__control sk-hidden--visually\" id=\"sk-estimator-id-42\" type=\"checkbox\" ><label for=\"sk-estimator-id-42\" class=\"sk-toggleable__label sk-toggleable__label-arrow\">StandardScaler</label><div class=\"sk-toggleable__content\"><pre>StandardScaler()</pre></div></div></div></div></div></div></div></div><div class=\"sk-parallel-item\"><div class=\"sk-item\"><div class=\"sk-label-container\"><div class=\"sk-label sk-toggleable\"><input class=\"sk-toggleable__control sk-hidden--visually\" id=\"sk-estimator-id-43\" type=\"checkbox\" ><label for=\"sk-estimator-id-43\" class=\"sk-toggleable__label sk-toggleable__label-arrow\">transf_cat</label><div class=\"sk-toggleable__content\"><pre>[&#x27;Sex&#x27;, &#x27;Housing&#x27;, &#x27;Saving accounts&#x27;, &#x27;Checking account&#x27;, &#x27;Purpose&#x27;]</pre></div></div></div><div class=\"sk-serial\"><div class=\"sk-item\"><div class=\"sk-serial\"><div class=\"sk-item\"><div class=\"sk-estimator sk-toggleable\"><input class=\"sk-toggleable__control sk-hidden--visually\" id=\"sk-estimator-id-44\" type=\"checkbox\" ><label for=\"sk-estimator-id-44\" class=\"sk-toggleable__label sk-toggleable__label-arrow\">SimpleImputer</label><div class=\"sk-toggleable__content\"><pre>SimpleImputer(fill_value=&#x27;unknown&#x27;, strategy=&#x27;constant&#x27;)</pre></div></div></div><div class=\"sk-item\"><div class=\"sk-estimator sk-toggleable\"><input class=\"sk-toggleable__control sk-hidden--visually\" id=\"sk-estimator-id-45\" type=\"checkbox\" ><label for=\"sk-estimator-id-45\" class=\"sk-toggleable__label sk-toggleable__label-arrow\">OneHotEncoder</label><div class=\"sk-toggleable__content\"><pre>OneHotEncoder()</pre></div></div></div></div></div></div></div></div></div></div><div class=\"sk-item\"><div class=\"sk-estimator sk-toggleable\"><input class=\"sk-toggleable__control sk-hidden--visually\" id=\"sk-estimator-id-46\" type=\"checkbox\" ><label for=\"sk-estimator-id-46\" class=\"sk-toggleable__label sk-toggleable__label-arrow\">AdaBoostClassifier</label><div class=\"sk-toggleable__content\"><pre>AdaBoostClassifier(n_estimators=150, random_state=42)</pre></div></div></div></div></div></div></div>"
            ]
          },
          "metadata": {},
          "execution_count": 20
        }
      ],
      "source": [
        "X_train, X_test, y_train, y_test, pre_processador = pipe_pre_process_german()\n",
        "\n",
        "# pipeline final\n",
        "pipe_ab = Pipeline([(\"pre_processador\", pre_processador),\n",
        "                    (\"ab\", AdaBoostClassifier(random_state=42, n_estimators=150))]) #\n",
        "# n_estimators=50\n",
        "# Treinar o modelo\n",
        "pipe_ab.fit(X_train, y_train)"
      ]
    },
    {
      "cell_type": "code",
      "execution_count": 21,
      "id": "639ddfa1",
      "metadata": {
        "ExecuteTime": {
          "end_time": "2022-06-03T00:58:14.683093Z",
          "start_time": "2022-06-03T00:58:14.086442Z"
        },
        "id": "639ddfa1",
        "outputId": "a9d57c37-cf34-4684-f4b7-b02b4f39e031",
        "colab": {
          "base_uri": "https://localhost:8080/",
          "height": 1000
        }
      },
      "outputs": [
        {
          "output_type": "stream",
          "name": "stdout",
          "text": [
            "\n",
            "Métricas de avaliação de treino:\n",
            "[[143  97]\n",
            " [ 51 509]]\n"
          ]
        },
        {
          "output_type": "display_data",
          "data": {
            "text/plain": [
              "<Figure size 640x480 with 2 Axes>"
            ],
            "image/png": "[encoded data removed]"
          },
          "metadata": {}
        },
        {
          "output_type": "stream",
          "name": "stdout",
          "text": [
            "              precision    recall  f1-score   support\n",
            "\n",
            "         bad       0.74      0.60      0.66       240\n",
            "        good       0.84      0.91      0.87       560\n",
            "\n",
            "    accuracy                           0.81       800\n",
            "   macro avg       0.79      0.75      0.77       800\n",
            "weighted avg       0.81      0.81      0.81       800\n",
            "\n",
            "\n",
            "Métricas de avaliação de teste:\n",
            "[[ 32  28]\n",
            " [ 17 123]]\n"
          ]
        },
        {
          "output_type": "display_data",
          "data": {
            "text/plain": [
              "<Figure size 640x480 with 2 Axes>"
            ],
            "image/png": "[encoded data removed]"
          },
          "metadata": {}
        },
        {
          "output_type": "stream",
          "name": "stdout",
          "text": [
            "              precision    recall  f1-score   support\n",
            "\n",
            "         bad       0.65      0.53      0.59        60\n",
            "        good       0.81      0.88      0.85       140\n",
            "\n",
            "    accuracy                           0.78       200\n",
            "   macro avg       0.73      0.71      0.72       200\n",
            "weighted avg       0.77      0.78      0.77       200\n",
            "\n"
          ]
        }
      ],
      "source": [
        "# avalia o modelo\n",
        "metricas_classificacao(pipe_ab)"
      ]
    },
    {
      "cell_type": "code",
      "execution_count": 22,
      "id": "cef4c75a",
      "metadata": {
        "id": "cef4c75a"
      },
      "outputs": [],
      "source": [
        "# fazer um gridsearch para melhorar os dados\n",
        "# fazer um adaboost para regressão"
      ]
    },
    {
      "cell_type": "code",
      "source": [
        "from sklearn.model_selection import GridSearchCV\n",
        "\n",
        "# 'definindo os parametros do grid'\n",
        "param_grid = {\n",
        "    'ab__n_estimators': [50, 100, 150],\n",
        "    'ab__learning_rate': [0.01, 0.1, 1]\n",
        "}\n",
        "\n",
        "# criando o modelo\n",
        "grid_search = GridSearchCV(estimator=pipe_ab, param_grid=param_grid, cv=5, n_jobs=-1, verbose=1)\n",
        "\n",
        "# treinando\n",
        "grid_search.fit(X_train, y_train)\n"
      ],
      "metadata": {
        "colab": {
          "base_uri": "https://localhost:8080/",
          "height": 270
        },
        "id": "joVm9u1yFm2f",
        "outputId": "1df5ebcc-4170-4b97-9605-786d632bbfd7"
      },
      "id": "joVm9u1yFm2f",
      "execution_count": 23,
      "outputs": [
        {
          "output_type": "stream",
          "name": "stdout",
          "text": [
            "Fitting 5 folds for each of 9 candidates, totalling 45 fits\n"
          ]
        },
        {
          "output_type": "execute_result",
          "data": {
            "text/plain": [
              "GridSearchCV(cv=5,\n",
              "             estimator=Pipeline(steps=[('pre_processador',\n",
              "                                        ColumnTransformer(transformers=[('transf_num',\n",
              "                                                                         Pipeline(steps=[('input_num',\n",
              "                                                                                          SimpleImputer()),\n",
              "                                                                                         ('std',\n",
              "                                                                                          StandardScaler())]),\n",
              "                                                                         ['Unnamed: '\n",
              "                                                                          '0',\n",
              "                                                                          'Age',\n",
              "                                                                          'Job',\n",
              "                                                                          'Credit '\n",
              "                                                                          'amount',\n",
              "                                                                          'Duration']),\n",
              "                                                                        ('transf_cat',\n",
              "                                                                         Pipeline(steps=[('input_cat',\n",
              "                                                                                          SimpleImputer(fill_value='unknown',\n",
              "                                                                                                        strategy='constant')),\n",
              "                                                                                         ('onehot',\n",
              "                                                                                          OneHotEncoder())]),\n",
              "                                                                         ['Sex',\n",
              "                                                                          'Housing',\n",
              "                                                                          'Saving '\n",
              "                                                                          'accounts',\n",
              "                                                                          'Checking '\n",
              "                                                                          'account',\n",
              "                                                                          'Purpose'])])),\n",
              "                                       ('ab',\n",
              "                                        AdaBoostClassifier(n_estimators=150,\n",
              "                                                           random_state=42))]),\n",
              "             n_jobs=-1,\n",
              "             param_grid={'ab__learning_rate': [0.01, 0.1, 1],\n",
              "                         'ab__n_estimators': [50, 100, 150]},\n",
              "             verbose=1)"
            ],
            "text/html": [
              "<style>#sk-container-id-6 {color: black;background-color: white;}#sk-container-id-6 pre{padding: 0;}#sk-container-id-6 div.sk-toggleable {background-color: white;}#sk-container-id-6 label.sk-toggleable__label {cursor: pointer;display: block;width: 100%;margin-bottom: 0;padding: 0.3em;box-sizing: border-box;text-align: center;}#sk-container-id-6 label.sk-toggleable__label-arrow:before {content: \"▸\";float: left;margin-right: 0.25em;color: #696969;}#sk-container-id-6 label.sk-toggleable__label-arrow:hover:before {color: black;}#sk-container-id-6 div.sk-estimator:hover label.sk-toggleable__label-arrow:before {color: black;}#sk-container-id-6 div.sk-toggleable__content {max-height: 0;max-width: 0;overflow: hidden;text-align: left;background-color: #f0f8ff;}#sk-container-id-6 div.sk-toggleable__content pre {margin: 0.2em;color: black;border-radius: 0.25em;background-color: #f0f8ff;}#sk-container-id-6 input.sk-toggleable__control:checked~div.sk-toggleable__content {max-height: 200px;max-width: 100%;overflow: auto;}#sk-container-id-6 input.sk-toggleable__control:checked~label.sk-toggleable__label-arrow:before {content: \"▾\";}#sk-container-id-6 div.sk-estimator input.sk-toggleable__control:checked~label.sk-toggleable__label {background-color: #d4ebff;}#sk-container-id-6 div.sk-label input.sk-toggleable__control:checked~label.sk-toggleable__label {background-color: #d4ebff;}#sk-container-id-6 input.sk-hidden--visually {border: 0;clip: rect(1px 1px 1px 1px);clip: rect(1px, 1px, 1px, 1px);height: 1px;margin: -1px;overflow: hidden;padding: 0;position: absolute;width: 1px;}#sk-container-id-6 div.sk-estimator {font-family: monospace;background-color: #f0f8ff;border: 1px dotted black;border-radius: 0.25em;box-sizing: border-box;margin-bottom: 0.5em;}#sk-container-id-6 div.sk-estimator:hover {background-color: #d4ebff;}#sk-container-id-6 div.sk-parallel-item::after {content: \"\";width: 100%;border-bottom: 1px solid gray;flex-grow: 1;}#sk-container-id-6 div.sk-label:hover label.sk-toggleable__label {background-color: #d4ebff;}#sk-container-id-6 div.sk-serial::before {content: \"\";position: absolute;border-left: 1px solid gray;box-sizing: border-box;top: 0;bottom: 0;left: 50%;z-index: 0;}#sk-container-id-6 div.sk-serial {display: flex;flex-direction: column;align-items: center;background-color: white;padding-right: 0.2em;padding-left: 0.2em;position: relative;}#sk-container-id-6 div.sk-item {position: relative;z-index: 1;}#sk-container-id-6 div.sk-parallel {display: flex;align-items: stretch;justify-content: center;background-color: white;position: relative;}#sk-container-id-6 div.sk-item::before, #sk-container-id-6 div.sk-parallel-item::before {content: \"\";position: absolute;border-left: 1px solid gray;box-sizing: border-box;top: 0;bottom: 0;left: 50%;z-index: -1;}#sk-container-id-6 div.sk-parallel-item {display: flex;flex-direction: column;z-index: 1;position: relative;background-color: white;}#sk-container-id-6 div.sk-parallel-item:first-child::after {align-self: flex-end;width: 50%;}#sk-container-id-6 div.sk-parallel-item:last-child::after {align-self: flex-start;width: 50%;}#sk-container-id-6 div.sk-parallel-item:only-child::after {width: 0;}#sk-container-id-6 div.sk-dashed-wrapped {border: 1px dashed gray;margin: 0 0.4em 0.5em 0.4em;box-sizing: border-box;padding-bottom: 0.4em;background-color: white;}#sk-container-id-6 div.sk-label label {font-family: monospace;font-weight: bold;display: inline-block;line-height: 1.2em;}#sk-container-id-6 div.sk-label-container {text-align: center;}#sk-container-id-6 div.sk-container {/* jupyter's `normalize.less` sets `[hidden] { display: none; }` but bootstrap.min.css set `[hidden] { display: none !important; }` so we also need the `!important` here to be able to override the default hidden behavior on the sphinx rendered scikit-learn.org. See: https://github.com/scikit-learn/scikit-learn/issues/21755 */display: inline-block !important;position: relative;}#sk-container-id-6 div.sk-text-repr-fallback {display: none;}</style><div id=\"sk-container-id-6\" class=\"sk-top-container\"><div class=\"sk-text-repr-fallback\"><pre>GridSearchCV(cv=5,\n",
              "             estimator=Pipeline(steps=[(&#x27;pre_processador&#x27;,\n",
              "                                        ColumnTransformer(transformers=[(&#x27;transf_num&#x27;,\n",
              "                                                                         Pipeline(steps=[(&#x27;input_num&#x27;,\n",
              "                                                                                          SimpleImputer()),\n",
              "                                                                                         (&#x27;std&#x27;,\n",
              "                                                                                          StandardScaler())]),\n",
              "                                                                         [&#x27;Unnamed: &#x27;\n",
              "                                                                          &#x27;0&#x27;,\n",
              "                                                                          &#x27;Age&#x27;,\n",
              "                                                                          &#x27;Job&#x27;,\n",
              "                                                                          &#x27;Credit &#x27;\n",
              "                                                                          &#x27;amount&#x27;,\n",
              "                                                                          &#x27;Duration&#x27;]),\n",
              "                                                                        (&#x27;transf_cat&#x27;,\n",
              "                                                                         Pipeline(steps=[(&#x27;input_cat&#x27;,\n",
              "                                                                                          SimpleImputer(fill_value=&#x27;unknown&#x27;,\n",
              "                                                                                                        strategy=&#x27;constant&#x27;)),\n",
              "                                                                                         (&#x27;onehot&#x27;,\n",
              "                                                                                          OneHotEncoder())]),\n",
              "                                                                         [&#x27;Sex&#x27;,\n",
              "                                                                          &#x27;Housing&#x27;,\n",
              "                                                                          &#x27;Saving &#x27;\n",
              "                                                                          &#x27;accounts&#x27;,\n",
              "                                                                          &#x27;Checking &#x27;\n",
              "                                                                          &#x27;account&#x27;,\n",
              "                                                                          &#x27;Purpose&#x27;])])),\n",
              "                                       (&#x27;ab&#x27;,\n",
              "                                        AdaBoostClassifier(n_estimators=150,\n",
              "                                                           random_state=42))]),\n",
              "             n_jobs=-1,\n",
              "             param_grid={&#x27;ab__learning_rate&#x27;: [0.01, 0.1, 1],\n",
              "                         &#x27;ab__n_estimators&#x27;: [50, 100, 150]},\n",
              "             verbose=1)</pre><b>In a Jupyter environment, please rerun this cell to show the HTML representation or trust the notebook. <br />On GitHub, the HTML representation is unable to render, please try loading this page with nbviewer.org.</b></div><div class=\"sk-container\" hidden><div class=\"sk-item sk-dashed-wrapped\"><div class=\"sk-label-container\"><div class=\"sk-label sk-toggleable\"><input class=\"sk-toggleable__control sk-hidden--visually\" id=\"sk-estimator-id-47\" type=\"checkbox\" ><label for=\"sk-estimator-id-47\" class=\"sk-toggleable__label sk-toggleable__label-arrow\">GridSearchCV</label><div class=\"sk-toggleable__content\"><pre>GridSearchCV(cv=5,\n",
              "             estimator=Pipeline(steps=[(&#x27;pre_processador&#x27;,\n",
              "                                        ColumnTransformer(transformers=[(&#x27;transf_num&#x27;,\n",
              "                                                                         Pipeline(steps=[(&#x27;input_num&#x27;,\n",
              "                                                                                          SimpleImputer()),\n",
              "                                                                                         (&#x27;std&#x27;,\n",
              "                                                                                          StandardScaler())]),\n",
              "                                                                         [&#x27;Unnamed: &#x27;\n",
              "                                                                          &#x27;0&#x27;,\n",
              "                                                                          &#x27;Age&#x27;,\n",
              "                                                                          &#x27;Job&#x27;,\n",
              "                                                                          &#x27;Credit &#x27;\n",
              "                                                                          &#x27;amount&#x27;,\n",
              "                                                                          &#x27;Duration&#x27;]),\n",
              "                                                                        (&#x27;transf_cat&#x27;,\n",
              "                                                                         Pipeline(steps=[(&#x27;input_cat&#x27;,\n",
              "                                                                                          SimpleImputer(fill_value=&#x27;unknown&#x27;,\n",
              "                                                                                                        strategy=&#x27;constant&#x27;)),\n",
              "                                                                                         (&#x27;onehot&#x27;,\n",
              "                                                                                          OneHotEncoder())]),\n",
              "                                                                         [&#x27;Sex&#x27;,\n",
              "                                                                          &#x27;Housing&#x27;,\n",
              "                                                                          &#x27;Saving &#x27;\n",
              "                                                                          &#x27;accounts&#x27;,\n",
              "                                                                          &#x27;Checking &#x27;\n",
              "                                                                          &#x27;account&#x27;,\n",
              "                                                                          &#x27;Purpose&#x27;])])),\n",
              "                                       (&#x27;ab&#x27;,\n",
              "                                        AdaBoostClassifier(n_estimators=150,\n",
              "                                                           random_state=42))]),\n",
              "             n_jobs=-1,\n",
              "             param_grid={&#x27;ab__learning_rate&#x27;: [0.01, 0.1, 1],\n",
              "                         &#x27;ab__n_estimators&#x27;: [50, 100, 150]},\n",
              "             verbose=1)</pre></div></div></div><div class=\"sk-parallel\"><div class=\"sk-parallel-item\"><div class=\"sk-item\"><div class=\"sk-label-container\"><div class=\"sk-label sk-toggleable\"><input class=\"sk-toggleable__control sk-hidden--visually\" id=\"sk-estimator-id-48\" type=\"checkbox\" ><label for=\"sk-estimator-id-48\" class=\"sk-toggleable__label sk-toggleable__label-arrow\">estimator: Pipeline</label><div class=\"sk-toggleable__content\"><pre>Pipeline(steps=[(&#x27;pre_processador&#x27;,\n",
              "                 ColumnTransformer(transformers=[(&#x27;transf_num&#x27;,\n",
              "                                                  Pipeline(steps=[(&#x27;input_num&#x27;,\n",
              "                                                                   SimpleImputer()),\n",
              "                                                                  (&#x27;std&#x27;,\n",
              "                                                                   StandardScaler())]),\n",
              "                                                  [&#x27;Unnamed: 0&#x27;, &#x27;Age&#x27;, &#x27;Job&#x27;,\n",
              "                                                   &#x27;Credit amount&#x27;,\n",
              "                                                   &#x27;Duration&#x27;]),\n",
              "                                                 (&#x27;transf_cat&#x27;,\n",
              "                                                  Pipeline(steps=[(&#x27;input_cat&#x27;,\n",
              "                                                                   SimpleImputer(fill_value=&#x27;unknown&#x27;,\n",
              "                                                                                 strategy=&#x27;constant&#x27;)),\n",
              "                                                                  (&#x27;onehot&#x27;,\n",
              "                                                                   OneHotEncoder())]),\n",
              "                                                  [&#x27;Sex&#x27;, &#x27;Housing&#x27;,\n",
              "                                                   &#x27;Saving accounts&#x27;,\n",
              "                                                   &#x27;Checking account&#x27;,\n",
              "                                                   &#x27;Purpose&#x27;])])),\n",
              "                (&#x27;ab&#x27;, AdaBoostClassifier(n_estimators=150, random_state=42))])</pre></div></div></div><div class=\"sk-serial\"><div class=\"sk-item\"><div class=\"sk-serial\"><div class=\"sk-item sk-dashed-wrapped\"><div class=\"sk-label-container\"><div class=\"sk-label sk-toggleable\"><input class=\"sk-toggleable__control sk-hidden--visually\" id=\"sk-estimator-id-49\" type=\"checkbox\" ><label for=\"sk-estimator-id-49\" class=\"sk-toggleable__label sk-toggleable__label-arrow\">pre_processador: ColumnTransformer</label><div class=\"sk-toggleable__content\"><pre>ColumnTransformer(transformers=[(&#x27;transf_num&#x27;,\n",
              "                                 Pipeline(steps=[(&#x27;input_num&#x27;, SimpleImputer()),\n",
              "                                                 (&#x27;std&#x27;, StandardScaler())]),\n",
              "                                 [&#x27;Unnamed: 0&#x27;, &#x27;Age&#x27;, &#x27;Job&#x27;, &#x27;Credit amount&#x27;,\n",
              "                                  &#x27;Duration&#x27;]),\n",
              "                                (&#x27;transf_cat&#x27;,\n",
              "                                 Pipeline(steps=[(&#x27;input_cat&#x27;,\n",
              "                                                  SimpleImputer(fill_value=&#x27;unknown&#x27;,\n",
              "                                                                strategy=&#x27;constant&#x27;)),\n",
              "                                                 (&#x27;onehot&#x27;, OneHotEncoder())]),\n",
              "                                 [&#x27;Sex&#x27;, &#x27;Housing&#x27;, &#x27;Saving accounts&#x27;,\n",
              "                                  &#x27;Checking account&#x27;, &#x27;Purpose&#x27;])])</pre></div></div></div><div class=\"sk-parallel\"><div class=\"sk-parallel-item\"><div class=\"sk-item\"><div class=\"sk-label-container\"><div class=\"sk-label sk-toggleable\"><input class=\"sk-toggleable__control sk-hidden--visually\" id=\"sk-estimator-id-50\" type=\"checkbox\" ><label for=\"sk-estimator-id-50\" class=\"sk-toggleable__label sk-toggleable__label-arrow\">transf_num</label><div class=\"sk-toggleable__content\"><pre>[&#x27;Unnamed: 0&#x27;, &#x27;Age&#x27;, &#x27;Job&#x27;, &#x27;Credit amount&#x27;, &#x27;Duration&#x27;]</pre></div></div></div><div class=\"sk-serial\"><div class=\"sk-item\"><div class=\"sk-serial\"><div class=\"sk-item\"><div class=\"sk-estimator sk-toggleable\"><input class=\"sk-toggleable__control sk-hidden--visually\" id=\"sk-estimator-id-51\" type=\"checkbox\" ><label for=\"sk-estimator-id-51\" class=\"sk-toggleable__label sk-toggleable__label-arrow\">SimpleImputer</label><div class=\"sk-toggleable__content\"><pre>SimpleImputer()</pre></div></div></div><div class=\"sk-item\"><div class=\"sk-estimator sk-toggleable\"><input class=\"sk-toggleable__control sk-hidden--visually\" id=\"sk-estimator-id-52\" type=\"checkbox\" ><label for=\"sk-estimator-id-52\" class=\"sk-toggleable__label sk-toggleable__label-arrow\">StandardScaler</label><div class=\"sk-toggleable__content\"><pre>StandardScaler()</pre></div></div></div></div></div></div></div></div><div class=\"sk-parallel-item\"><div class=\"sk-item\"><div class=\"sk-label-container\"><div class=\"sk-label sk-toggleable\"><input class=\"sk-toggleable__control sk-hidden--visually\" id=\"sk-estimator-id-53\" type=\"checkbox\" ><label for=\"sk-estimator-id-53\" class=\"sk-toggleable__label sk-toggleable__label-arrow\">transf_cat</label><div class=\"sk-toggleable__content\"><pre>[&#x27;Sex&#x27;, &#x27;Housing&#x27;, &#x27;Saving accounts&#x27;, &#x27;Checking account&#x27;, &#x27;Purpose&#x27;]</pre></div></div></div><div class=\"sk-serial\"><div class=\"sk-item\"><div class=\"sk-serial\"><div class=\"sk-item\"><div class=\"sk-estimator sk-toggleable\"><input class=\"sk-toggleable__control sk-hidden--visually\" id=\"sk-estimator-id-54\" type=\"checkbox\" ><label for=\"sk-estimator-id-54\" class=\"sk-toggleable__label sk-toggleable__label-arrow\">SimpleImputer</label><div class=\"sk-toggleable__content\"><pre>SimpleImputer(fill_value=&#x27;unknown&#x27;, strategy=&#x27;constant&#x27;)</pre></div></div></div><div class=\"sk-item\"><div class=\"sk-estimator sk-toggleable\"><input class=\"sk-toggleable__control sk-hidden--visually\" id=\"sk-estimator-id-55\" type=\"checkbox\" ><label for=\"sk-estimator-id-55\" class=\"sk-toggleable__label sk-toggleable__label-arrow\">OneHotEncoder</label><div class=\"sk-toggleable__content\"><pre>OneHotEncoder()</pre></div></div></div></div></div></div></div></div></div></div><div class=\"sk-item\"><div class=\"sk-estimator sk-toggleable\"><input class=\"sk-toggleable__control sk-hidden--visually\" id=\"sk-estimator-id-56\" type=\"checkbox\" ><label for=\"sk-estimator-id-56\" class=\"sk-toggleable__label sk-toggleable__label-arrow\">AdaBoostClassifier</label><div class=\"sk-toggleable__content\"><pre>AdaBoostClassifier(n_estimators=150, random_state=42)</pre></div></div></div></div></div></div></div></div></div></div></div></div>"
            ]
          },
          "metadata": {},
          "execution_count": 23
        }
      ]
    },
    {
      "cell_type": "code",
      "source": [
        "# outputs das metricas\n",
        "best_parameters = grid_search.best_params_\n",
        "best_score = grid_search.best_score_\n",
        "\n",
        "best_parameters, best_score"
      ],
      "metadata": {
        "colab": {
          "base_uri": "https://localhost:8080/"
        },
        "id": "DLNmm97zGr-Q",
        "outputId": "57ed3abe-aed6-4405-9fdc-18914d85e372"
      },
      "id": "DLNmm97zGr-Q",
      "execution_count": 24,
      "outputs": [
        {
          "output_type": "execute_result",
          "data": {
            "text/plain": [
              "({'ab__learning_rate': 0.1, 'ab__n_estimators': 150}, 0.73375)"
            ]
          },
          "metadata": {},
          "execution_count": 24
        }
      ]
    },
    {
      "cell_type": "code",
      "source": [
        "# avalia o modelo\n",
        "metricas_classificacao(grid_search)"
      ],
      "metadata": {
        "colab": {
          "base_uri": "https://localhost:8080/",
          "height": 1000
        },
        "id": "seHZ4U2DHLJP",
        "outputId": "74d428d6-329c-4de8-c0be-9817de760839"
      },
      "id": "seHZ4U2DHLJP",
      "execution_count": 25,
      "outputs": [
        {
          "output_type": "stream",
          "name": "stdout",
          "text": [
            "\n",
            "Métricas de avaliação de treino:\n",
            "[[ 94 146]\n",
            " [ 39 521]]\n"
          ]
        },
        {
          "output_type": "display_data",
          "data": {
            "text/plain": [
              "<Figure size 640x480 with 2 Axes>"
            ],
            "image/png": "[encoded data removed]"
          },
          "metadata": {}
        },
        {
          "output_type": "stream",
          "name": "stdout",
          "text": [
            "              precision    recall  f1-score   support\n",
            "\n",
            "         bad       0.71      0.39      0.50       240\n",
            "        good       0.78      0.93      0.85       560\n",
            "\n",
            "    accuracy                           0.77       800\n",
            "   macro avg       0.74      0.66      0.68       800\n",
            "weighted avg       0.76      0.77      0.75       800\n",
            "\n",
            "\n",
            "Métricas de avaliação de teste:\n",
            "[[ 21  39]\n",
            " [ 12 128]]\n"
          ]
        },
        {
          "output_type": "display_data",
          "data": {
            "text/plain": [
              "<Figure size 640x480 with 2 Axes>"
            ],
            "image/png": "[encoded data removed]"
          },
          "metadata": {}
        },
        {
          "output_type": "stream",
          "name": "stdout",
          "text": [
            "              precision    recall  f1-score   support\n",
            "\n",
            "         bad       0.64      0.35      0.45        60\n",
            "        good       0.77      0.91      0.83       140\n",
            "\n",
            "    accuracy                           0.74       200\n",
            "   macro avg       0.70      0.63      0.64       200\n",
            "weighted avg       0.73      0.74      0.72       200\n",
            "\n"
          ]
        }
      ]
    },
    {
      "cell_type": "markdown",
      "source": [
        "### AdaBoostRegressor"
      ],
      "metadata": {
        "id": "JXlokbEzHqRy"
      },
      "id": "JXlokbEzHqRy"
    },
    {
      "cell_type": "code",
      "source": [
        "##### Carregar os dados\n",
        "df = pd.read_csv(\"/content/german_credit_data.csv\")\n",
        "\n",
        "##### separando as features e target\n",
        "X = df.drop(columns=\"Risk\")\n",
        "y = df[\"Risk\"]\n",
        "\n",
        "##### convertendo valores categóricos em numéricos\n",
        "from sklearn.preprocessing import LabelEncoder\n",
        "\n",
        "label_encoder = LabelEncoder()\n",
        "y_encoded = label_encoder.fit_transform(y)\n",
        "\n",
        "##### dividindo dados em treino e teste\n",
        "X_train, X_test, y_train, y_test = train_test_split(X, y_encoded, test_size=0.2, random_state=42)\n",
        "\n",
        "##### realizando o pipeline\n",
        "numeric_features = X.select_dtypes(include=['float64', 'int64']).columns\n",
        "numeric_transformer = Pipeline(steps=[\n",
        "    ('imputer', SimpleImputer(strategy='mean')),\n",
        "    ('scaler', StandardScaler())\n",
        "])\n",
        "\n",
        "##### Pipeline para features categóricas: imputação de valores ausentes e codificação one-hot\n",
        "categorical_features = X.select_dtypes(include=['object']).columns\n",
        "categorical_transformer = Pipeline(steps=[\n",
        "    ('imputer', SimpleImputer(strategy='constant', fill_value='unknown')),\n",
        "    ('onehot', OneHotEncoder(handle_unknown='ignore'))\n",
        "])\n",
        "\n",
        "##### pre-processamento\n",
        "preprocessor = ColumnTransformer(\n",
        "    transformers=[\n",
        "        ('num', numeric_transformer, numeric_features),\n",
        "        ('cat', categorical_transformer, categorical_features)\n",
        "    ])\n",
        "\n",
        "##### Criar pipeline com o pré-processador e o AdaBoostRegressor\n",
        "pipe_ab_regressor = Pipeline(steps=[\n",
        "    ('preprocessor', preprocessor),\n",
        "    ('regressor', AdaBoostRegressor(random_state=42, n_estimators=150))\n",
        "])\n",
        "\n",
        "##### Treinar o modelo\n",
        "pipe_ab_regressor.fit(X_train, y_train)\n",
        "\n",
        "##### Avaliar o modelo\n",
        "y_pred_train = pipe_ab_regressor.predict(X_train)\n",
        "y_pred_test = pipe_ab_regressor.predict(X_test)\n",
        "\n",
        "##### Avaliar o modelo (métricas de regressão)\n",
        "from sklearn.metrics import mean_squared_error, r2_score\n",
        "\n",
        "print(\"Mean Squared Error (MSE) - Treino:\", mean_squared_error(y_train, y_pred_train))\n",
        "print(\"R-squared (R2) - Treino:\", r2_score(y_train, y_pred_train))\n",
        "\n",
        "print(\"Mean Squared Error (MSE) - Teste:\", mean_squared_error(y_test, y_pred_test))\n",
        "print(\"R-squared (R2) - Teste:\", r2_score(y_test, y_pred_test))\n"
      ],
      "metadata": {
        "colab": {
          "base_uri": "https://localhost:8080/"
        },
        "id": "iHhChiQKHs63",
        "outputId": "125e03aa-d752-4fd1-bc38-2b5acbf69d7c"
      },
      "id": "iHhChiQKHs63",
      "execution_count": 27,
      "outputs": [
        {
          "output_type": "stream",
          "name": "stdout",
          "text": [
            "Mean Squared Error (MSE) - Treino: 0.17566472786810283\n",
            "R-squared (R2) - Treino: 0.1654820341927581\n",
            "Mean Squared Error (MSE) - Teste: 0.16936286000121512\n",
            "R-squared (R2) - Teste: 0.1856576030714503\n"
          ]
        }
      ]
    },
    {
      "cell_type": "code",
      "source": [],
      "metadata": {
        "id": "v-NP4h8zIRd-"
      },
      "id": "v-NP4h8zIRd-",
      "execution_count": null,
      "outputs": []
    }
  ],
  "metadata": {
    "kernelspec": {
      "display_name": "Python 3 (ipykernel)",
      "language": "python",
      "name": "python3"
    },
    "language_info": {
      "codemirror_mode": {
        "name": "ipython",
        "version": 3
      },
      "file_extension": ".py",
      "mimetype": "text/x-python",
      "name": "python",
      "nbconvert_exporter": "python",
      "pygments_lexer": "ipython3",
      "version": "3.10.4"
    },
    "varInspector": {
      "cols": {
        "lenName": 16,
        "lenType": 16,
        "lenVar": 40
      },
      "kernels_config": {
        "python": {
          "delete_cmd_postfix": "",
          "delete_cmd_prefix": "del ",
          "library": "var_list.py",
          "varRefreshCmd": "print(var_dic_list())"
        },
        "r": {
          "delete_cmd_postfix": ") ",
          "delete_cmd_prefix": "rm(",
          "library": "var_list.r",
          "varRefreshCmd": "cat(var_dic_list()) "
        }
      },
      "types_to_exclude": [
        "module",
        "function",
        "builtin_function_or_method",
        "instance",
        "_Feature"
      ],
      "window_display": false
    },
    "colab": {
      "provenance": []
    }
  },
  "nbformat": 4,
  "nbformat_minor": 5
}